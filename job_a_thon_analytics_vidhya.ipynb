{
  "nbformat": 4,
  "nbformat_minor": 0,
  "metadata": {
    "colab": {
      "name": "job-a thon analytics vidhya.ipynb",
      "provenance": []
    },
    "kernelspec": {
      "name": "python3",
      "display_name": "Python 3"
    }
  },
  "cells": [
    {
      "cell_type": "code",
      "metadata": {
        "id": "KIuo7jayWxMe"
      },
      "source": [
        "import pandas as pd\r\n",
        "import numpy as np\r\n",
        "import matplotlib.pyplot as plt\r\n",
        "import seaborn as sns"
      ],
      "execution_count": null,
      "outputs": []
    },
    {
      "cell_type": "code",
      "metadata": {
        "id": "-UgqFFk6Zl2q"
      },
      "source": [
        "train = pd.read_csv(\"train_Df64byy.csv\")\r\n",
        "test = pd.read_csv(\"test_YCcRUnU.csv\")"
      ],
      "execution_count": null,
      "outputs": []
    },
    {
      "cell_type": "code",
      "metadata": {
        "colab": {
          "base_uri": "https://localhost:8080/",
          "height": 244
        },
        "id": "NMNElFT4aEHZ",
        "outputId": "8772f829-e017-4e74-aecf-0efccc19931a"
      },
      "source": [
        "train.head()"
      ],
      "execution_count": null,
      "outputs": [
        {
          "output_type": "execute_result",
          "data": {
            "text/html": [
              "<div>\n",
              "<style scoped>\n",
              "    .dataframe tbody tr th:only-of-type {\n",
              "        vertical-align: middle;\n",
              "    }\n",
              "\n",
              "    .dataframe tbody tr th {\n",
              "        vertical-align: top;\n",
              "    }\n",
              "\n",
              "    .dataframe thead th {\n",
              "        text-align: right;\n",
              "    }\n",
              "</style>\n",
              "<table border=\"1\" class=\"dataframe\">\n",
              "  <thead>\n",
              "    <tr style=\"text-align: right;\">\n",
              "      <th></th>\n",
              "      <th>ID</th>\n",
              "      <th>City_Code</th>\n",
              "      <th>Region_Code</th>\n",
              "      <th>Accomodation_Type</th>\n",
              "      <th>Reco_Insurance_Type</th>\n",
              "      <th>Upper_Age</th>\n",
              "      <th>Lower_Age</th>\n",
              "      <th>Is_Spouse</th>\n",
              "      <th>Health Indicator</th>\n",
              "      <th>Holding_Policy_Duration</th>\n",
              "      <th>Holding_Policy_Type</th>\n",
              "      <th>Reco_Policy_Cat</th>\n",
              "      <th>Reco_Policy_Premium</th>\n",
              "      <th>Response</th>\n",
              "    </tr>\n",
              "  </thead>\n",
              "  <tbody>\n",
              "    <tr>\n",
              "      <th>0</th>\n",
              "      <td>1</td>\n",
              "      <td>C3</td>\n",
              "      <td>3213</td>\n",
              "      <td>Rented</td>\n",
              "      <td>Individual</td>\n",
              "      <td>36</td>\n",
              "      <td>36</td>\n",
              "      <td>No</td>\n",
              "      <td>X1</td>\n",
              "      <td>14+</td>\n",
              "      <td>3.0</td>\n",
              "      <td>22</td>\n",
              "      <td>11628.0</td>\n",
              "      <td>0</td>\n",
              "    </tr>\n",
              "    <tr>\n",
              "      <th>1</th>\n",
              "      <td>2</td>\n",
              "      <td>C5</td>\n",
              "      <td>1117</td>\n",
              "      <td>Owned</td>\n",
              "      <td>Joint</td>\n",
              "      <td>75</td>\n",
              "      <td>22</td>\n",
              "      <td>No</td>\n",
              "      <td>X2</td>\n",
              "      <td>NaN</td>\n",
              "      <td>NaN</td>\n",
              "      <td>22</td>\n",
              "      <td>30510.0</td>\n",
              "      <td>0</td>\n",
              "    </tr>\n",
              "    <tr>\n",
              "      <th>2</th>\n",
              "      <td>3</td>\n",
              "      <td>C5</td>\n",
              "      <td>3732</td>\n",
              "      <td>Owned</td>\n",
              "      <td>Individual</td>\n",
              "      <td>32</td>\n",
              "      <td>32</td>\n",
              "      <td>No</td>\n",
              "      <td>NaN</td>\n",
              "      <td>1.0</td>\n",
              "      <td>1.0</td>\n",
              "      <td>19</td>\n",
              "      <td>7450.0</td>\n",
              "      <td>1</td>\n",
              "    </tr>\n",
              "    <tr>\n",
              "      <th>3</th>\n",
              "      <td>4</td>\n",
              "      <td>C24</td>\n",
              "      <td>4378</td>\n",
              "      <td>Owned</td>\n",
              "      <td>Joint</td>\n",
              "      <td>52</td>\n",
              "      <td>48</td>\n",
              "      <td>No</td>\n",
              "      <td>X1</td>\n",
              "      <td>14+</td>\n",
              "      <td>3.0</td>\n",
              "      <td>19</td>\n",
              "      <td>17780.0</td>\n",
              "      <td>0</td>\n",
              "    </tr>\n",
              "    <tr>\n",
              "      <th>4</th>\n",
              "      <td>5</td>\n",
              "      <td>C8</td>\n",
              "      <td>2190</td>\n",
              "      <td>Rented</td>\n",
              "      <td>Individual</td>\n",
              "      <td>44</td>\n",
              "      <td>44</td>\n",
              "      <td>No</td>\n",
              "      <td>X2</td>\n",
              "      <td>3.0</td>\n",
              "      <td>1.0</td>\n",
              "      <td>16</td>\n",
              "      <td>10404.0</td>\n",
              "      <td>0</td>\n",
              "    </tr>\n",
              "  </tbody>\n",
              "</table>\n",
              "</div>"
            ],
            "text/plain": [
              "   ID City_Code  Region_Code  ... Reco_Policy_Cat Reco_Policy_Premium  Response\n",
              "0   1        C3         3213  ...              22             11628.0         0\n",
              "1   2        C5         1117  ...              22             30510.0         0\n",
              "2   3        C5         3732  ...              19              7450.0         1\n",
              "3   4       C24         4378  ...              19             17780.0         0\n",
              "4   5        C8         2190  ...              16             10404.0         0\n",
              "\n",
              "[5 rows x 14 columns]"
            ]
          },
          "metadata": {
            "tags": []
          },
          "execution_count": 3
        }
      ]
    },
    {
      "cell_type": "code",
      "metadata": {
        "colab": {
          "base_uri": "https://localhost:8080/"
        },
        "id": "UieKPbapaNYg",
        "outputId": "990618df-ca18-430e-f857-7a1f04271f9e"
      },
      "source": [
        "train.isnull().sum()"
      ],
      "execution_count": null,
      "outputs": [
        {
          "output_type": "execute_result",
          "data": {
            "text/plain": [
              "ID                             0\n",
              "City_Code                      0\n",
              "Region_Code                    0\n",
              "Accomodation_Type              0\n",
              "Reco_Insurance_Type            0\n",
              "Upper_Age                      0\n",
              "Lower_Age                      0\n",
              "Is_Spouse                      0\n",
              "Health Indicator           11691\n",
              "Holding_Policy_Duration    20251\n",
              "Holding_Policy_Type        20251\n",
              "Reco_Policy_Cat                0\n",
              "Reco_Policy_Premium            0\n",
              "Response                       0\n",
              "dtype: int64"
            ]
          },
          "metadata": {
            "tags": []
          },
          "execution_count": 4
        }
      ]
    },
    {
      "cell_type": "code",
      "metadata": {
        "colab": {
          "base_uri": "https://localhost:8080/"
        },
        "id": "HX0UiBDdaOKB",
        "outputId": "ef4b4c9d-c03d-47dd-cbab-559ad4ce5b51"
      },
      "source": [
        "test.isnull().sum()"
      ],
      "execution_count": null,
      "outputs": [
        {
          "output_type": "execute_result",
          "data": {
            "text/plain": [
              "ID                            0\n",
              "City_Code                     0\n",
              "Region_Code                   0\n",
              "Accomodation_Type             0\n",
              "Reco_Insurance_Type           0\n",
              "Upper_Age                     0\n",
              "Lower_Age                     0\n",
              "Is_Spouse                     0\n",
              "Health Indicator           5027\n",
              "Holding_Policy_Duration    8603\n",
              "Holding_Policy_Type        8603\n",
              "Reco_Policy_Cat               0\n",
              "Reco_Policy_Premium           0\n",
              "dtype: int64"
            ]
          },
          "metadata": {
            "tags": []
          },
          "execution_count": 5
        }
      ]
    },
    {
      "cell_type": "code",
      "metadata": {
        "colab": {
          "base_uri": "https://localhost:8080/"
        },
        "id": "tHUdZ2PcaRx4",
        "outputId": "8f425023-1376-4302-c6be-d1f561ff0339"
      },
      "source": [
        "train.shape"
      ],
      "execution_count": null,
      "outputs": [
        {
          "output_type": "execute_result",
          "data": {
            "text/plain": [
              "(50882, 14)"
            ]
          },
          "metadata": {
            "tags": []
          },
          "execution_count": 6
        }
      ]
    },
    {
      "cell_type": "code",
      "metadata": {
        "colab": {
          "base_uri": "https://localhost:8080/"
        },
        "id": "0FXJDT09aXfp",
        "outputId": "9d45aadc-55a6-4f0a-827e-2eb79e991a1f"
      },
      "source": [
        "test.shape"
      ],
      "execution_count": null,
      "outputs": [
        {
          "output_type": "execute_result",
          "data": {
            "text/plain": [
              "(21805, 13)"
            ]
          },
          "metadata": {
            "tags": []
          },
          "execution_count": 7
        }
      ]
    },
    {
      "cell_type": "code",
      "metadata": {
        "id": "WM8EGrdoaZqR"
      },
      "source": [
        "\r\n",
        "def combine_df(train,test):\r\n",
        "  train['is_train'] = 1\r\n",
        "  test['is_train'] = 0\r\n",
        "  return pd.concat([train,test],axis=0)"
      ],
      "execution_count": null,
      "outputs": []
    },
    {
      "cell_type": "code",
      "metadata": {
        "id": "IgLC50J8WpQP"
      },
      "source": [
        "combined = combine_df(train,test)"
      ],
      "execution_count": null,
      "outputs": []
    },
    {
      "cell_type": "code",
      "metadata": {
        "colab": {
          "base_uri": "https://localhost:8080/"
        },
        "id": "C8DBJ11garo8",
        "outputId": "514a91df-14af-4a2c-d804-40fb6c9650a0"
      },
      "source": [
        "combined['Holding_Policy_Duration'] = combined['Holding_Policy_Duration'].replace(['14+'], 15.0)\r\n",
        "combined['Holding_Policy_Duration'].head(10)"
      ],
      "execution_count": null,
      "outputs": [
        {
          "output_type": "execute_result",
          "data": {
            "text/plain": [
              "0      15\n",
              "1     NaN\n",
              "2     1.0\n",
              "3      15\n",
              "4     3.0\n",
              "5     5.0\n",
              "6     NaN\n",
              "7     9.0\n",
              "8    14.0\n",
              "9     7.0\n",
              "Name: Holding_Policy_Duration, dtype: object"
            ]
          },
          "metadata": {
            "tags": []
          },
          "execution_count": 10
        }
      ]
    },
    {
      "cell_type": "code",
      "metadata": {
        "id": "GJ122E9fWrvQ"
      },
      "source": [
        "combined['Health Indicator'] = combined['Health Indicator'].fillna(combined['Health Indicator'].mode()[0])\r\n",
        "combined['Holding_Policy_Duration'] = combined['Holding_Policy_Duration'].fillna(combined['Holding_Policy_Duration'].mode()[0])\r\n",
        "combined['Holding_Policy_Type'] = combined['Holding_Policy_Type'].fillna(combined['Holding_Policy_Type'].mode()[0])"
      ],
      "execution_count": null,
      "outputs": []
    },
    {
      "cell_type": "code",
      "metadata": {
        "colab": {
          "base_uri": "https://localhost:8080/"
        },
        "id": "5WLtQj5bYyva",
        "outputId": "2818f227-b1ec-48d6-abf3-0e2045c969c1"
      },
      "source": [
        "combined.isnull().sum()"
      ],
      "execution_count": null,
      "outputs": [
        {
          "output_type": "execute_result",
          "data": {
            "text/plain": [
              "ID                             0\n",
              "City_Code                      0\n",
              "Region_Code                    0\n",
              "Accomodation_Type              0\n",
              "Reco_Insurance_Type            0\n",
              "Upper_Age                      0\n",
              "Lower_Age                      0\n",
              "Is_Spouse                      0\n",
              "Health Indicator               0\n",
              "Holding_Policy_Duration        0\n",
              "Holding_Policy_Type            0\n",
              "Reco_Policy_Cat                0\n",
              "Reco_Policy_Premium            0\n",
              "Response                   21805\n",
              "is_train                       0\n",
              "dtype: int64"
            ]
          },
          "metadata": {
            "tags": []
          },
          "execution_count": 12
        }
      ]
    },
    {
      "cell_type": "code",
      "metadata": {
        "id": "WETRGAgNbntE"
      },
      "source": [
        "def print_score(m):\r\n",
        "  all_metrics = [m.score(X_train,y_train),m.score(X_valid,y_valid)]\r\n",
        "  if hasattr(m,\"oob_score\"):\r\n",
        "    all_metrics.append(m.oob_score)\r\n",
        "  return all_metrics "
      ],
      "execution_count": null,
      "outputs": []
    },
    {
      "cell_type": "code",
      "metadata": {
        "id": "ur7ggQwXcu4a"
      },
      "source": [
        "#combined = pd.get_dummies(combined,columns=['Holding_Policy_Type', 'Health Indicator','Reco_Insurance_Type','Accomodation_Type','Is_Spouse'])"
      ],
      "execution_count": null,
      "outputs": []
    },
    {
      "cell_type": "code",
      "metadata": {
        "colab": {
          "base_uri": "https://localhost:8080/",
          "height": 244
        },
        "id": "shPZcaEtifv_",
        "outputId": "6536af0f-ebf2-4594-9a2d-c39b22b9b9fb"
      },
      "source": [
        "#combined.head()"
      ],
      "execution_count": null,
      "outputs": [
        {
          "output_type": "execute_result",
          "data": {
            "text/html": [
              "<div>\n",
              "<style scoped>\n",
              "    .dataframe tbody tr th:only-of-type {\n",
              "        vertical-align: middle;\n",
              "    }\n",
              "\n",
              "    .dataframe tbody tr th {\n",
              "        vertical-align: top;\n",
              "    }\n",
              "\n",
              "    .dataframe thead th {\n",
              "        text-align: right;\n",
              "    }\n",
              "</style>\n",
              "<table border=\"1\" class=\"dataframe\">\n",
              "  <thead>\n",
              "    <tr style=\"text-align: right;\">\n",
              "      <th></th>\n",
              "      <th>ID</th>\n",
              "      <th>City_Code</th>\n",
              "      <th>Region_Code</th>\n",
              "      <th>Upper_Age</th>\n",
              "      <th>Lower_Age</th>\n",
              "      <th>Holding_Policy_Duration</th>\n",
              "      <th>Reco_Policy_Cat</th>\n",
              "      <th>Reco_Policy_Premium</th>\n",
              "      <th>Response</th>\n",
              "      <th>is_train</th>\n",
              "      <th>Holding_Policy_Type_1.0</th>\n",
              "      <th>Holding_Policy_Type_2.0</th>\n",
              "      <th>Holding_Policy_Type_3.0</th>\n",
              "      <th>Holding_Policy_Type_4.0</th>\n",
              "      <th>Health Indicator_X1</th>\n",
              "      <th>Health Indicator_X2</th>\n",
              "      <th>Health Indicator_X3</th>\n",
              "      <th>Health Indicator_X4</th>\n",
              "      <th>Health Indicator_X5</th>\n",
              "      <th>Health Indicator_X6</th>\n",
              "      <th>Health Indicator_X7</th>\n",
              "      <th>Health Indicator_X8</th>\n",
              "      <th>Health Indicator_X9</th>\n",
              "      <th>Reco_Insurance_Type_Individual</th>\n",
              "      <th>Reco_Insurance_Type_Joint</th>\n",
              "      <th>Accomodation_Type_Owned</th>\n",
              "      <th>Accomodation_Type_Rented</th>\n",
              "      <th>Is_Spouse_No</th>\n",
              "      <th>Is_Spouse_Yes</th>\n",
              "    </tr>\n",
              "  </thead>\n",
              "  <tbody>\n",
              "    <tr>\n",
              "      <th>0</th>\n",
              "      <td>1</td>\n",
              "      <td>C3</td>\n",
              "      <td>3213</td>\n",
              "      <td>36</td>\n",
              "      <td>36</td>\n",
              "      <td>15</td>\n",
              "      <td>22</td>\n",
              "      <td>11628.0</td>\n",
              "      <td>0.0</td>\n",
              "      <td>1</td>\n",
              "      <td>0</td>\n",
              "      <td>0</td>\n",
              "      <td>1</td>\n",
              "      <td>0</td>\n",
              "      <td>1</td>\n",
              "      <td>0</td>\n",
              "      <td>0</td>\n",
              "      <td>0</td>\n",
              "      <td>0</td>\n",
              "      <td>0</td>\n",
              "      <td>0</td>\n",
              "      <td>0</td>\n",
              "      <td>0</td>\n",
              "      <td>1</td>\n",
              "      <td>0</td>\n",
              "      <td>0</td>\n",
              "      <td>1</td>\n",
              "      <td>1</td>\n",
              "      <td>0</td>\n",
              "    </tr>\n",
              "    <tr>\n",
              "      <th>1</th>\n",
              "      <td>2</td>\n",
              "      <td>C5</td>\n",
              "      <td>1117</td>\n",
              "      <td>75</td>\n",
              "      <td>22</td>\n",
              "      <td>1.0</td>\n",
              "      <td>22</td>\n",
              "      <td>30510.0</td>\n",
              "      <td>0.0</td>\n",
              "      <td>1</td>\n",
              "      <td>0</td>\n",
              "      <td>0</td>\n",
              "      <td>1</td>\n",
              "      <td>0</td>\n",
              "      <td>0</td>\n",
              "      <td>1</td>\n",
              "      <td>0</td>\n",
              "      <td>0</td>\n",
              "      <td>0</td>\n",
              "      <td>0</td>\n",
              "      <td>0</td>\n",
              "      <td>0</td>\n",
              "      <td>0</td>\n",
              "      <td>0</td>\n",
              "      <td>1</td>\n",
              "      <td>1</td>\n",
              "      <td>0</td>\n",
              "      <td>1</td>\n",
              "      <td>0</td>\n",
              "    </tr>\n",
              "    <tr>\n",
              "      <th>2</th>\n",
              "      <td>3</td>\n",
              "      <td>C5</td>\n",
              "      <td>3732</td>\n",
              "      <td>32</td>\n",
              "      <td>32</td>\n",
              "      <td>1.0</td>\n",
              "      <td>19</td>\n",
              "      <td>7450.0</td>\n",
              "      <td>1.0</td>\n",
              "      <td>1</td>\n",
              "      <td>1</td>\n",
              "      <td>0</td>\n",
              "      <td>0</td>\n",
              "      <td>0</td>\n",
              "      <td>1</td>\n",
              "      <td>0</td>\n",
              "      <td>0</td>\n",
              "      <td>0</td>\n",
              "      <td>0</td>\n",
              "      <td>0</td>\n",
              "      <td>0</td>\n",
              "      <td>0</td>\n",
              "      <td>0</td>\n",
              "      <td>1</td>\n",
              "      <td>0</td>\n",
              "      <td>1</td>\n",
              "      <td>0</td>\n",
              "      <td>1</td>\n",
              "      <td>0</td>\n",
              "    </tr>\n",
              "    <tr>\n",
              "      <th>3</th>\n",
              "      <td>4</td>\n",
              "      <td>C24</td>\n",
              "      <td>4378</td>\n",
              "      <td>52</td>\n",
              "      <td>48</td>\n",
              "      <td>15</td>\n",
              "      <td>19</td>\n",
              "      <td>17780.0</td>\n",
              "      <td>0.0</td>\n",
              "      <td>1</td>\n",
              "      <td>0</td>\n",
              "      <td>0</td>\n",
              "      <td>1</td>\n",
              "      <td>0</td>\n",
              "      <td>1</td>\n",
              "      <td>0</td>\n",
              "      <td>0</td>\n",
              "      <td>0</td>\n",
              "      <td>0</td>\n",
              "      <td>0</td>\n",
              "      <td>0</td>\n",
              "      <td>0</td>\n",
              "      <td>0</td>\n",
              "      <td>0</td>\n",
              "      <td>1</td>\n",
              "      <td>1</td>\n",
              "      <td>0</td>\n",
              "      <td>1</td>\n",
              "      <td>0</td>\n",
              "    </tr>\n",
              "    <tr>\n",
              "      <th>4</th>\n",
              "      <td>5</td>\n",
              "      <td>C8</td>\n",
              "      <td>2190</td>\n",
              "      <td>44</td>\n",
              "      <td>44</td>\n",
              "      <td>3.0</td>\n",
              "      <td>16</td>\n",
              "      <td>10404.0</td>\n",
              "      <td>0.0</td>\n",
              "      <td>1</td>\n",
              "      <td>1</td>\n",
              "      <td>0</td>\n",
              "      <td>0</td>\n",
              "      <td>0</td>\n",
              "      <td>0</td>\n",
              "      <td>1</td>\n",
              "      <td>0</td>\n",
              "      <td>0</td>\n",
              "      <td>0</td>\n",
              "      <td>0</td>\n",
              "      <td>0</td>\n",
              "      <td>0</td>\n",
              "      <td>0</td>\n",
              "      <td>1</td>\n",
              "      <td>0</td>\n",
              "      <td>0</td>\n",
              "      <td>1</td>\n",
              "      <td>1</td>\n",
              "      <td>0</td>\n",
              "    </tr>\n",
              "  </tbody>\n",
              "</table>\n",
              "</div>"
            ],
            "text/plain": [
              "   ID City_Code  ...  Is_Spouse_No  Is_Spouse_Yes\n",
              "0   1        C3  ...             1              0\n",
              "1   2        C5  ...             1              0\n",
              "2   3        C5  ...             1              0\n",
              "3   4       C24  ...             1              0\n",
              "4   5        C8  ...             1              0\n",
              "\n",
              "[5 rows x 29 columns]"
            ]
          },
          "metadata": {
            "tags": []
          },
          "execution_count": 15
        }
      ]
    },
    {
      "cell_type": "code",
      "metadata": {
        "id": "Z2Eq3kJ0rU2p"
      },
      "source": [
        "from sklearn.preprocessing import LabelEncoder\r\n",
        "le=LabelEncoder()"
      ],
      "execution_count": null,
      "outputs": []
    },
    {
      "cell_type": "code",
      "metadata": {
        "id": "XJc8RlAXrLyn"
      },
      "source": [
        "combined['City_Code']=le.fit_transform(combined['City_Code'])\r\n",
        "combined['Holding_Policy_Type']=le.fit_transform(combined['Holding_Policy_Type'])\r\n",
        "combined['Reco_Insurance_Type']=le.fit_transform(combined['Reco_Insurance_Type'])\r\n",
        "combined['Accomodation_Type']=le.fit_transform(combined['Accomodation_Type'])\r\n",
        "combined['Is_Spouse']=le.fit_transform(combined['Is_Spouse'])"
      ],
      "execution_count": null,
      "outputs": []
    },
    {
      "cell_type": "code",
      "metadata": {
        "id": "BTiw81la03Mc"
      },
      "source": [
        "combined['Health Indicator']=le.fit_transform(combined['Health Indicator'])"
      ],
      "execution_count": null,
      "outputs": []
    },
    {
      "cell_type": "code",
      "metadata": {
        "colab": {
          "base_uri": "https://localhost:8080/",
          "height": 244
        },
        "id": "47jgVwnurvmY",
        "outputId": "33919268-4244-4e97-d7cd-653111d385dc"
      },
      "source": [
        "combined.head()"
      ],
      "execution_count": null,
      "outputs": [
        {
          "output_type": "execute_result",
          "data": {
            "text/html": [
              "<div>\n",
              "<style scoped>\n",
              "    .dataframe tbody tr th:only-of-type {\n",
              "        vertical-align: middle;\n",
              "    }\n",
              "\n",
              "    .dataframe tbody tr th {\n",
              "        vertical-align: top;\n",
              "    }\n",
              "\n",
              "    .dataframe thead th {\n",
              "        text-align: right;\n",
              "    }\n",
              "</style>\n",
              "<table border=\"1\" class=\"dataframe\">\n",
              "  <thead>\n",
              "    <tr style=\"text-align: right;\">\n",
              "      <th></th>\n",
              "      <th>ID</th>\n",
              "      <th>City_Code</th>\n",
              "      <th>Region_Code</th>\n",
              "      <th>Accomodation_Type</th>\n",
              "      <th>Reco_Insurance_Type</th>\n",
              "      <th>Upper_Age</th>\n",
              "      <th>Lower_Age</th>\n",
              "      <th>Is_Spouse</th>\n",
              "      <th>Health Indicator</th>\n",
              "      <th>Holding_Policy_Duration</th>\n",
              "      <th>Holding_Policy_Type</th>\n",
              "      <th>Reco_Policy_Cat</th>\n",
              "      <th>Reco_Policy_Premium</th>\n",
              "      <th>Response</th>\n",
              "      <th>is_train</th>\n",
              "    </tr>\n",
              "  </thead>\n",
              "  <tbody>\n",
              "    <tr>\n",
              "      <th>0</th>\n",
              "      <td>1</td>\n",
              "      <td>22</td>\n",
              "      <td>3213</td>\n",
              "      <td>1</td>\n",
              "      <td>0</td>\n",
              "      <td>36</td>\n",
              "      <td>36</td>\n",
              "      <td>0</td>\n",
              "      <td>0</td>\n",
              "      <td>15</td>\n",
              "      <td>2</td>\n",
              "      <td>22</td>\n",
              "      <td>11628.0</td>\n",
              "      <td>0.0</td>\n",
              "      <td>1</td>\n",
              "    </tr>\n",
              "    <tr>\n",
              "      <th>1</th>\n",
              "      <td>2</td>\n",
              "      <td>31</td>\n",
              "      <td>1117</td>\n",
              "      <td>0</td>\n",
              "      <td>1</td>\n",
              "      <td>75</td>\n",
              "      <td>22</td>\n",
              "      <td>0</td>\n",
              "      <td>1</td>\n",
              "      <td>1.0</td>\n",
              "      <td>2</td>\n",
              "      <td>22</td>\n",
              "      <td>30510.0</td>\n",
              "      <td>0.0</td>\n",
              "      <td>1</td>\n",
              "    </tr>\n",
              "    <tr>\n",
              "      <th>2</th>\n",
              "      <td>3</td>\n",
              "      <td>31</td>\n",
              "      <td>3732</td>\n",
              "      <td>0</td>\n",
              "      <td>0</td>\n",
              "      <td>32</td>\n",
              "      <td>32</td>\n",
              "      <td>0</td>\n",
              "      <td>0</td>\n",
              "      <td>1.0</td>\n",
              "      <td>0</td>\n",
              "      <td>19</td>\n",
              "      <td>7450.0</td>\n",
              "      <td>1.0</td>\n",
              "      <td>1</td>\n",
              "    </tr>\n",
              "    <tr>\n",
              "      <th>3</th>\n",
              "      <td>4</td>\n",
              "      <td>16</td>\n",
              "      <td>4378</td>\n",
              "      <td>0</td>\n",
              "      <td>1</td>\n",
              "      <td>52</td>\n",
              "      <td>48</td>\n",
              "      <td>0</td>\n",
              "      <td>0</td>\n",
              "      <td>15</td>\n",
              "      <td>2</td>\n",
              "      <td>19</td>\n",
              "      <td>17780.0</td>\n",
              "      <td>0.0</td>\n",
              "      <td>1</td>\n",
              "    </tr>\n",
              "    <tr>\n",
              "      <th>4</th>\n",
              "      <td>5</td>\n",
              "      <td>34</td>\n",
              "      <td>2190</td>\n",
              "      <td>1</td>\n",
              "      <td>0</td>\n",
              "      <td>44</td>\n",
              "      <td>44</td>\n",
              "      <td>0</td>\n",
              "      <td>1</td>\n",
              "      <td>3.0</td>\n",
              "      <td>0</td>\n",
              "      <td>16</td>\n",
              "      <td>10404.0</td>\n",
              "      <td>0.0</td>\n",
              "      <td>1</td>\n",
              "    </tr>\n",
              "  </tbody>\n",
              "</table>\n",
              "</div>"
            ],
            "text/plain": [
              "   ID  City_Code  Region_Code  ...  Reco_Policy_Premium  Response  is_train\n",
              "0   1         22         3213  ...              11628.0       0.0         1\n",
              "1   2         31         1117  ...              30510.0       0.0         1\n",
              "2   3         31         3732  ...               7450.0       1.0         1\n",
              "3   4         16         4378  ...              17780.0       0.0         1\n",
              "4   5         34         2190  ...              10404.0       0.0         1\n",
              "\n",
              "[5 rows x 15 columns]"
            ]
          },
          "metadata": {
            "tags": []
          },
          "execution_count": 17
        }
      ]
    },
    {
      "cell_type": "code",
      "metadata": {
        "id": "VO2NoHfzsS3l"
      },
      "source": [
        "combined['Holding_Policy_Duration'] = pd.to_numeric(combined['Holding_Policy_Duration'])"
      ],
      "execution_count": null,
      "outputs": []
    },
    {
      "cell_type": "code",
      "metadata": {
        "colab": {
          "base_uri": "https://localhost:8080/"
        },
        "id": "HLIWjxfjsdWN",
        "outputId": "3228bc2f-37a7-4656-a8f8-0ed84b7fd0ab"
      },
      "source": [
        "combined.info()"
      ],
      "execution_count": null,
      "outputs": [
        {
          "output_type": "stream",
          "text": [
            "<class 'pandas.core.frame.DataFrame'>\n",
            "Int64Index: 72687 entries, 0 to 21804\n",
            "Data columns (total 15 columns):\n",
            " #   Column                   Non-Null Count  Dtype  \n",
            "---  ------                   --------------  -----  \n",
            " 0   ID                       72687 non-null  int64  \n",
            " 1   City_Code                72687 non-null  int64  \n",
            " 2   Region_Code              72687 non-null  int64  \n",
            " 3   Accomodation_Type        72687 non-null  int64  \n",
            " 4   Reco_Insurance_Type      72687 non-null  int64  \n",
            " 5   Upper_Age                72687 non-null  int64  \n",
            " 6   Lower_Age                72687 non-null  int64  \n",
            " 7   Is_Spouse                72687 non-null  int64  \n",
            " 8   Health Indicator         72687 non-null  int64  \n",
            " 9   Holding_Policy_Duration  72687 non-null  float64\n",
            " 10  Holding_Policy_Type      72687 non-null  int64  \n",
            " 11  Reco_Policy_Cat          72687 non-null  int64  \n",
            " 12  Reco_Policy_Premium      72687 non-null  float64\n",
            " 13  Response                 50882 non-null  float64\n",
            " 14  is_train                 72687 non-null  int64  \n",
            "dtypes: float64(3), int64(12)\n",
            "memory usage: 8.9 MB\n"
          ],
          "name": "stdout"
        }
      ]
    },
    {
      "cell_type": "code",
      "metadata": {
        "id": "Y_tKuMXYdRwz"
      },
      "source": [
        "train_df = combined[combined['is_train'] == 1].drop(\"is_train\",axis=1)\r\n",
        "test_df = combined[combined['is_train'] == 0].drop(\"is_train\",axis=1)"
      ],
      "execution_count": null,
      "outputs": []
    },
    {
      "cell_type": "code",
      "metadata": {
        "colab": {
          "base_uri": "https://localhost:8080/",
          "height": 244
        },
        "id": "9qZKU2oMdf5b",
        "outputId": "06868d3f-8836-4eb3-faea-cbe5a34c08ca"
      },
      "source": [
        "test_df.head()"
      ],
      "execution_count": null,
      "outputs": [
        {
          "output_type": "execute_result",
          "data": {
            "text/html": [
              "<div>\n",
              "<style scoped>\n",
              "    .dataframe tbody tr th:only-of-type {\n",
              "        vertical-align: middle;\n",
              "    }\n",
              "\n",
              "    .dataframe tbody tr th {\n",
              "        vertical-align: top;\n",
              "    }\n",
              "\n",
              "    .dataframe thead th {\n",
              "        text-align: right;\n",
              "    }\n",
              "</style>\n",
              "<table border=\"1\" class=\"dataframe\">\n",
              "  <thead>\n",
              "    <tr style=\"text-align: right;\">\n",
              "      <th></th>\n",
              "      <th>ID</th>\n",
              "      <th>City_Code</th>\n",
              "      <th>Region_Code</th>\n",
              "      <th>Accomodation_Type</th>\n",
              "      <th>Reco_Insurance_Type</th>\n",
              "      <th>Upper_Age</th>\n",
              "      <th>Lower_Age</th>\n",
              "      <th>Is_Spouse</th>\n",
              "      <th>Health Indicator</th>\n",
              "      <th>Holding_Policy_Duration</th>\n",
              "      <th>Holding_Policy_Type</th>\n",
              "      <th>Reco_Policy_Cat</th>\n",
              "      <th>Reco_Policy_Premium</th>\n",
              "      <th>Response</th>\n",
              "    </tr>\n",
              "  </thead>\n",
              "  <tbody>\n",
              "    <tr>\n",
              "      <th>0</th>\n",
              "      <td>50883</td>\n",
              "      <td>0</td>\n",
              "      <td>156</td>\n",
              "      <td>0</td>\n",
              "      <td>0</td>\n",
              "      <td>30</td>\n",
              "      <td>30</td>\n",
              "      <td>0</td>\n",
              "      <td>0</td>\n",
              "      <td>6.0</td>\n",
              "      <td>2</td>\n",
              "      <td>5</td>\n",
              "      <td>11934.0</td>\n",
              "      <td>NaN</td>\n",
              "    </tr>\n",
              "    <tr>\n",
              "      <th>1</th>\n",
              "      <td>50884</td>\n",
              "      <td>30</td>\n",
              "      <td>7</td>\n",
              "      <td>0</td>\n",
              "      <td>1</td>\n",
              "      <td>69</td>\n",
              "      <td>68</td>\n",
              "      <td>1</td>\n",
              "      <td>0</td>\n",
              "      <td>3.0</td>\n",
              "      <td>2</td>\n",
              "      <td>18</td>\n",
              "      <td>32204.8</td>\n",
              "      <td>NaN</td>\n",
              "    </tr>\n",
              "    <tr>\n",
              "      <th>2</th>\n",
              "      <td>50885</td>\n",
              "      <td>0</td>\n",
              "      <td>564</td>\n",
              "      <td>1</td>\n",
              "      <td>0</td>\n",
              "      <td>28</td>\n",
              "      <td>28</td>\n",
              "      <td>0</td>\n",
              "      <td>2</td>\n",
              "      <td>2.0</td>\n",
              "      <td>3</td>\n",
              "      <td>17</td>\n",
              "      <td>9240.0</td>\n",
              "      <td>NaN</td>\n",
              "    </tr>\n",
              "    <tr>\n",
              "      <th>3</th>\n",
              "      <td>50886</td>\n",
              "      <td>22</td>\n",
              "      <td>1177</td>\n",
              "      <td>1</td>\n",
              "      <td>0</td>\n",
              "      <td>23</td>\n",
              "      <td>23</td>\n",
              "      <td>0</td>\n",
              "      <td>2</td>\n",
              "      <td>3.0</td>\n",
              "      <td>2</td>\n",
              "      <td>18</td>\n",
              "      <td>9086.0</td>\n",
              "      <td>NaN</td>\n",
              "    </tr>\n",
              "    <tr>\n",
              "      <th>4</th>\n",
              "      <td>50887</td>\n",
              "      <td>0</td>\n",
              "      <td>951</td>\n",
              "      <td>0</td>\n",
              "      <td>0</td>\n",
              "      <td>75</td>\n",
              "      <td>75</td>\n",
              "      <td>0</td>\n",
              "      <td>2</td>\n",
              "      <td>1.0</td>\n",
              "      <td>2</td>\n",
              "      <td>5</td>\n",
              "      <td>22534.0</td>\n",
              "      <td>NaN</td>\n",
              "    </tr>\n",
              "  </tbody>\n",
              "</table>\n",
              "</div>"
            ],
            "text/plain": [
              "      ID  City_Code  ...  Reco_Policy_Premium  Response\n",
              "0  50883          0  ...              11934.0       NaN\n",
              "1  50884         30  ...              32204.8       NaN\n",
              "2  50885          0  ...               9240.0       NaN\n",
              "3  50886         22  ...               9086.0       NaN\n",
              "4  50887          0  ...              22534.0       NaN\n",
              "\n",
              "[5 rows x 14 columns]"
            ]
          },
          "metadata": {
            "tags": []
          },
          "execution_count": 21
        }
      ]
    },
    {
      "cell_type": "code",
      "metadata": {
        "id": "cF0gcnL7uXEr"
      },
      "source": [
        "test_df=test_df.drop(['Response'],axis=1)"
      ],
      "execution_count": null,
      "outputs": []
    },
    {
      "cell_type": "code",
      "metadata": {
        "colab": {
          "base_uri": "https://localhost:8080/",
          "height": 244
        },
        "id": "IWsuONictMjx",
        "outputId": "e38fd181-038b-411d-bfc5-6370f5513b5e"
      },
      "source": [
        "train_df.head()"
      ],
      "execution_count": null,
      "outputs": [
        {
          "output_type": "execute_result",
          "data": {
            "text/html": [
              "<div>\n",
              "<style scoped>\n",
              "    .dataframe tbody tr th:only-of-type {\n",
              "        vertical-align: middle;\n",
              "    }\n",
              "\n",
              "    .dataframe tbody tr th {\n",
              "        vertical-align: top;\n",
              "    }\n",
              "\n",
              "    .dataframe thead th {\n",
              "        text-align: right;\n",
              "    }\n",
              "</style>\n",
              "<table border=\"1\" class=\"dataframe\">\n",
              "  <thead>\n",
              "    <tr style=\"text-align: right;\">\n",
              "      <th></th>\n",
              "      <th>ID</th>\n",
              "      <th>City_Code</th>\n",
              "      <th>Region_Code</th>\n",
              "      <th>Accomodation_Type</th>\n",
              "      <th>Reco_Insurance_Type</th>\n",
              "      <th>Upper_Age</th>\n",
              "      <th>Lower_Age</th>\n",
              "      <th>Is_Spouse</th>\n",
              "      <th>Health Indicator</th>\n",
              "      <th>Holding_Policy_Duration</th>\n",
              "      <th>Holding_Policy_Type</th>\n",
              "      <th>Reco_Policy_Cat</th>\n",
              "      <th>Reco_Policy_Premium</th>\n",
              "      <th>Response</th>\n",
              "    </tr>\n",
              "  </thead>\n",
              "  <tbody>\n",
              "    <tr>\n",
              "      <th>0</th>\n",
              "      <td>1</td>\n",
              "      <td>22</td>\n",
              "      <td>3213</td>\n",
              "      <td>1</td>\n",
              "      <td>0</td>\n",
              "      <td>36</td>\n",
              "      <td>36</td>\n",
              "      <td>0</td>\n",
              "      <td>0</td>\n",
              "      <td>15.0</td>\n",
              "      <td>2</td>\n",
              "      <td>22</td>\n",
              "      <td>11628.0</td>\n",
              "      <td>0.0</td>\n",
              "    </tr>\n",
              "    <tr>\n",
              "      <th>1</th>\n",
              "      <td>2</td>\n",
              "      <td>31</td>\n",
              "      <td>1117</td>\n",
              "      <td>0</td>\n",
              "      <td>1</td>\n",
              "      <td>75</td>\n",
              "      <td>22</td>\n",
              "      <td>0</td>\n",
              "      <td>1</td>\n",
              "      <td>1.0</td>\n",
              "      <td>2</td>\n",
              "      <td>22</td>\n",
              "      <td>30510.0</td>\n",
              "      <td>0.0</td>\n",
              "    </tr>\n",
              "    <tr>\n",
              "      <th>2</th>\n",
              "      <td>3</td>\n",
              "      <td>31</td>\n",
              "      <td>3732</td>\n",
              "      <td>0</td>\n",
              "      <td>0</td>\n",
              "      <td>32</td>\n",
              "      <td>32</td>\n",
              "      <td>0</td>\n",
              "      <td>0</td>\n",
              "      <td>1.0</td>\n",
              "      <td>0</td>\n",
              "      <td>19</td>\n",
              "      <td>7450.0</td>\n",
              "      <td>1.0</td>\n",
              "    </tr>\n",
              "    <tr>\n",
              "      <th>3</th>\n",
              "      <td>4</td>\n",
              "      <td>16</td>\n",
              "      <td>4378</td>\n",
              "      <td>0</td>\n",
              "      <td>1</td>\n",
              "      <td>52</td>\n",
              "      <td>48</td>\n",
              "      <td>0</td>\n",
              "      <td>0</td>\n",
              "      <td>15.0</td>\n",
              "      <td>2</td>\n",
              "      <td>19</td>\n",
              "      <td>17780.0</td>\n",
              "      <td>0.0</td>\n",
              "    </tr>\n",
              "    <tr>\n",
              "      <th>4</th>\n",
              "      <td>5</td>\n",
              "      <td>34</td>\n",
              "      <td>2190</td>\n",
              "      <td>1</td>\n",
              "      <td>0</td>\n",
              "      <td>44</td>\n",
              "      <td>44</td>\n",
              "      <td>0</td>\n",
              "      <td>1</td>\n",
              "      <td>3.0</td>\n",
              "      <td>0</td>\n",
              "      <td>16</td>\n",
              "      <td>10404.0</td>\n",
              "      <td>0.0</td>\n",
              "    </tr>\n",
              "  </tbody>\n",
              "</table>\n",
              "</div>"
            ],
            "text/plain": [
              "   ID  City_Code  Region_Code  ...  Reco_Policy_Cat  Reco_Policy_Premium  Response\n",
              "0   1         22         3213  ...               22              11628.0       0.0\n",
              "1   2         31         1117  ...               22              30510.0       0.0\n",
              "2   3         31         3732  ...               19               7450.0       1.0\n",
              "3   4         16         4378  ...               19              17780.0       0.0\n",
              "4   5         34         2190  ...               16              10404.0       0.0\n",
              "\n",
              "[5 rows x 14 columns]"
            ]
          },
          "metadata": {
            "tags": []
          },
          "execution_count": 23
        }
      ]
    },
    {
      "cell_type": "code",
      "metadata": {
        "colab": {
          "base_uri": "https://localhost:8080/",
          "height": 526
        },
        "id": "6uYpygQTvU1d",
        "outputId": "584e1660-0293-4e8c-b410-b2de39698a5d"
      },
      "source": [
        "train_df.corr()"
      ],
      "execution_count": null,
      "outputs": [
        {
          "output_type": "execute_result",
          "data": {
            "text/html": [
              "<div>\n",
              "<style scoped>\n",
              "    .dataframe tbody tr th:only-of-type {\n",
              "        vertical-align: middle;\n",
              "    }\n",
              "\n",
              "    .dataframe tbody tr th {\n",
              "        vertical-align: top;\n",
              "    }\n",
              "\n",
              "    .dataframe thead th {\n",
              "        text-align: right;\n",
              "    }\n",
              "</style>\n",
              "<table border=\"1\" class=\"dataframe\">\n",
              "  <thead>\n",
              "    <tr style=\"text-align: right;\">\n",
              "      <th></th>\n",
              "      <th>ID</th>\n",
              "      <th>City_Code</th>\n",
              "      <th>Region_Code</th>\n",
              "      <th>Accomodation_Type</th>\n",
              "      <th>Reco_Insurance_Type</th>\n",
              "      <th>Upper_Age</th>\n",
              "      <th>Lower_Age</th>\n",
              "      <th>Is_Spouse</th>\n",
              "      <th>Health Indicator</th>\n",
              "      <th>Holding_Policy_Duration</th>\n",
              "      <th>Holding_Policy_Type</th>\n",
              "      <th>Reco_Policy_Cat</th>\n",
              "      <th>Reco_Policy_Premium</th>\n",
              "      <th>Response</th>\n",
              "    </tr>\n",
              "  </thead>\n",
              "  <tbody>\n",
              "    <tr>\n",
              "      <th>ID</th>\n",
              "      <td>1.000000</td>\n",
              "      <td>-0.003275</td>\n",
              "      <td>-0.000465</td>\n",
              "      <td>-0.004649</td>\n",
              "      <td>-0.008505</td>\n",
              "      <td>-0.001725</td>\n",
              "      <td>0.001101</td>\n",
              "      <td>-0.004262</td>\n",
              "      <td>0.001563</td>\n",
              "      <td>-0.002806</td>\n",
              "      <td>0.004605</td>\n",
              "      <td>-0.002235</td>\n",
              "      <td>-0.002350</td>\n",
              "      <td>0.005159</td>\n",
              "    </tr>\n",
              "    <tr>\n",
              "      <th>City_Code</th>\n",
              "      <td>-0.003275</td>\n",
              "      <td>1.000000</td>\n",
              "      <td>0.059562</td>\n",
              "      <td>0.054010</td>\n",
              "      <td>-0.053742</td>\n",
              "      <td>-0.144504</td>\n",
              "      <td>-0.136441</td>\n",
              "      <td>-0.052259</td>\n",
              "      <td>-0.012762</td>\n",
              "      <td>-0.078983</td>\n",
              "      <td>-0.000466</td>\n",
              "      <td>-0.084928</td>\n",
              "      <td>-0.144310</td>\n",
              "      <td>-0.000495</td>\n",
              "    </tr>\n",
              "    <tr>\n",
              "      <th>Region_Code</th>\n",
              "      <td>-0.000465</td>\n",
              "      <td>0.059562</td>\n",
              "      <td>1.000000</td>\n",
              "      <td>0.009105</td>\n",
              "      <td>-0.004275</td>\n",
              "      <td>-0.005649</td>\n",
              "      <td>-0.005928</td>\n",
              "      <td>-0.002567</td>\n",
              "      <td>0.017058</td>\n",
              "      <td>0.014324</td>\n",
              "      <td>0.009348</td>\n",
              "      <td>-0.065120</td>\n",
              "      <td>-0.010797</td>\n",
              "      <td>0.001121</td>\n",
              "    </tr>\n",
              "    <tr>\n",
              "      <th>Accomodation_Type</th>\n",
              "      <td>-0.004649</td>\n",
              "      <td>0.054010</td>\n",
              "      <td>0.009105</td>\n",
              "      <td>1.000000</td>\n",
              "      <td>-0.196833</td>\n",
              "      <td>-0.419129</td>\n",
              "      <td>-0.369400</td>\n",
              "      <td>-0.191045</td>\n",
              "      <td>-0.038414</td>\n",
              "      <td>-0.221938</td>\n",
              "      <td>-0.055255</td>\n",
              "      <td>-0.022055</td>\n",
              "      <td>-0.350514</td>\n",
              "      <td>-0.005201</td>\n",
              "    </tr>\n",
              "    <tr>\n",
              "      <th>Reco_Insurance_Type</th>\n",
              "      <td>-0.008505</td>\n",
              "      <td>-0.053742</td>\n",
              "      <td>-0.004275</td>\n",
              "      <td>-0.196833</td>\n",
              "      <td>1.000000</td>\n",
              "      <td>0.227119</td>\n",
              "      <td>-0.014998</td>\n",
              "      <td>0.881560</td>\n",
              "      <td>0.039813</td>\n",
              "      <td>0.102279</td>\n",
              "      <td>0.033907</td>\n",
              "      <td>0.020826</td>\n",
              "      <td>0.596160</td>\n",
              "      <td>0.009891</td>\n",
              "    </tr>\n",
              "    <tr>\n",
              "      <th>Upper_Age</th>\n",
              "      <td>-0.001725</td>\n",
              "      <td>-0.144504</td>\n",
              "      <td>-0.005649</td>\n",
              "      <td>-0.419129</td>\n",
              "      <td>0.227119</td>\n",
              "      <td>1.000000</td>\n",
              "      <td>0.921392</td>\n",
              "      <td>0.202947</td>\n",
              "      <td>0.019547</td>\n",
              "      <td>0.370691</td>\n",
              "      <td>0.002579</td>\n",
              "      <td>0.025257</td>\n",
              "      <td>0.792689</td>\n",
              "      <td>0.002772</td>\n",
              "    </tr>\n",
              "    <tr>\n",
              "      <th>Lower_Age</th>\n",
              "      <td>0.001101</td>\n",
              "      <td>-0.136441</td>\n",
              "      <td>-0.005928</td>\n",
              "      <td>-0.369400</td>\n",
              "      <td>-0.014998</td>\n",
              "      <td>0.921392</td>\n",
              "      <td>1.000000</td>\n",
              "      <td>0.062634</td>\n",
              "      <td>0.014362</td>\n",
              "      <td>0.334359</td>\n",
              "      <td>-0.001842</td>\n",
              "      <td>0.021163</td>\n",
              "      <td>0.615739</td>\n",
              "      <td>-0.002099</td>\n",
              "    </tr>\n",
              "    <tr>\n",
              "      <th>Is_Spouse</th>\n",
              "      <td>-0.004262</td>\n",
              "      <td>-0.052259</td>\n",
              "      <td>-0.002567</td>\n",
              "      <td>-0.191045</td>\n",
              "      <td>0.881560</td>\n",
              "      <td>0.202947</td>\n",
              "      <td>0.062634</td>\n",
              "      <td>1.000000</td>\n",
              "      <td>0.042963</td>\n",
              "      <td>0.091370</td>\n",
              "      <td>0.043596</td>\n",
              "      <td>0.022676</td>\n",
              "      <td>0.514727</td>\n",
              "      <td>0.003859</td>\n",
              "    </tr>\n",
              "    <tr>\n",
              "      <th>Health Indicator</th>\n",
              "      <td>0.001563</td>\n",
              "      <td>-0.012762</td>\n",
              "      <td>0.017058</td>\n",
              "      <td>-0.038414</td>\n",
              "      <td>0.039813</td>\n",
              "      <td>0.019547</td>\n",
              "      <td>0.014362</td>\n",
              "      <td>0.042963</td>\n",
              "      <td>1.000000</td>\n",
              "      <td>0.013950</td>\n",
              "      <td>0.029842</td>\n",
              "      <td>-0.004402</td>\n",
              "      <td>0.033874</td>\n",
              "      <td>0.002239</td>\n",
              "    </tr>\n",
              "    <tr>\n",
              "      <th>Holding_Policy_Duration</th>\n",
              "      <td>-0.002806</td>\n",
              "      <td>-0.078983</td>\n",
              "      <td>0.014324</td>\n",
              "      <td>-0.221938</td>\n",
              "      <td>0.102279</td>\n",
              "      <td>0.370691</td>\n",
              "      <td>0.334359</td>\n",
              "      <td>0.091370</td>\n",
              "      <td>0.013950</td>\n",
              "      <td>1.000000</td>\n",
              "      <td>-0.080730</td>\n",
              "      <td>0.035633</td>\n",
              "      <td>0.283068</td>\n",
              "      <td>0.014844</td>\n",
              "    </tr>\n",
              "    <tr>\n",
              "      <th>Holding_Policy_Type</th>\n",
              "      <td>0.004605</td>\n",
              "      <td>-0.000466</td>\n",
              "      <td>0.009348</td>\n",
              "      <td>-0.055255</td>\n",
              "      <td>0.033907</td>\n",
              "      <td>0.002579</td>\n",
              "      <td>-0.001842</td>\n",
              "      <td>0.043596</td>\n",
              "      <td>0.029842</td>\n",
              "      <td>-0.080730</td>\n",
              "      <td>1.000000</td>\n",
              "      <td>0.053760</td>\n",
              "      <td>0.012266</td>\n",
              "      <td>0.006208</td>\n",
              "    </tr>\n",
              "    <tr>\n",
              "      <th>Reco_Policy_Cat</th>\n",
              "      <td>-0.002235</td>\n",
              "      <td>-0.084928</td>\n",
              "      <td>-0.065120</td>\n",
              "      <td>-0.022055</td>\n",
              "      <td>0.020826</td>\n",
              "      <td>0.025257</td>\n",
              "      <td>0.021163</td>\n",
              "      <td>0.022676</td>\n",
              "      <td>-0.004402</td>\n",
              "      <td>0.035633</td>\n",
              "      <td>0.053760</td>\n",
              "      <td>1.000000</td>\n",
              "      <td>0.060989</td>\n",
              "      <td>0.114321</td>\n",
              "    </tr>\n",
              "    <tr>\n",
              "      <th>Reco_Policy_Premium</th>\n",
              "      <td>-0.002350</td>\n",
              "      <td>-0.144310</td>\n",
              "      <td>-0.010797</td>\n",
              "      <td>-0.350514</td>\n",
              "      <td>0.596160</td>\n",
              "      <td>0.792689</td>\n",
              "      <td>0.615739</td>\n",
              "      <td>0.514727</td>\n",
              "      <td>0.033874</td>\n",
              "      <td>0.283068</td>\n",
              "      <td>0.012266</td>\n",
              "      <td>0.060989</td>\n",
              "      <td>1.000000</td>\n",
              "      <td>0.007943</td>\n",
              "    </tr>\n",
              "    <tr>\n",
              "      <th>Response</th>\n",
              "      <td>0.005159</td>\n",
              "      <td>-0.000495</td>\n",
              "      <td>0.001121</td>\n",
              "      <td>-0.005201</td>\n",
              "      <td>0.009891</td>\n",
              "      <td>0.002772</td>\n",
              "      <td>-0.002099</td>\n",
              "      <td>0.003859</td>\n",
              "      <td>0.002239</td>\n",
              "      <td>0.014844</td>\n",
              "      <td>0.006208</td>\n",
              "      <td>0.114321</td>\n",
              "      <td>0.007943</td>\n",
              "      <td>1.000000</td>\n",
              "    </tr>\n",
              "  </tbody>\n",
              "</table>\n",
              "</div>"
            ],
            "text/plain": [
              "                               ID  City_Code  ...  Reco_Policy_Premium  Response\n",
              "ID                       1.000000  -0.003275  ...            -0.002350  0.005159\n",
              "City_Code               -0.003275   1.000000  ...            -0.144310 -0.000495\n",
              "Region_Code             -0.000465   0.059562  ...            -0.010797  0.001121\n",
              "Accomodation_Type       -0.004649   0.054010  ...            -0.350514 -0.005201\n",
              "Reco_Insurance_Type     -0.008505  -0.053742  ...             0.596160  0.009891\n",
              "Upper_Age               -0.001725  -0.144504  ...             0.792689  0.002772\n",
              "Lower_Age                0.001101  -0.136441  ...             0.615739 -0.002099\n",
              "Is_Spouse               -0.004262  -0.052259  ...             0.514727  0.003859\n",
              "Health Indicator         0.001563  -0.012762  ...             0.033874  0.002239\n",
              "Holding_Policy_Duration -0.002806  -0.078983  ...             0.283068  0.014844\n",
              "Holding_Policy_Type      0.004605  -0.000466  ...             0.012266  0.006208\n",
              "Reco_Policy_Cat         -0.002235  -0.084928  ...             0.060989  0.114321\n",
              "Reco_Policy_Premium     -0.002350  -0.144310  ...             1.000000  0.007943\n",
              "Response                 0.005159  -0.000495  ...             0.007943  1.000000\n",
              "\n",
              "[14 rows x 14 columns]"
            ]
          },
          "metadata": {
            "tags": []
          },
          "execution_count": 24
        }
      ]
    },
    {
      "cell_type": "code",
      "metadata": {
        "colab": {
          "base_uri": "https://localhost:8080/",
          "height": 745
        },
        "id": "utjgjNAevWjj",
        "outputId": "31fc0390-67cf-41a8-e365-275b6279ec5b"
      },
      "source": [
        "plt.rcParams['figure.figsize'] = [15,10]\r\n",
        "sns.heatmap(train_df.corr(), cmap=\"flare\", linewidths= 0.10,annot=True)\r\n",
        "plt.title('Co-Relation of all features in DataSet', fontsize = 25)"
      ],
      "execution_count": null,
      "outputs": [
        {
          "output_type": "execute_result",
          "data": {
            "text/plain": [
              "Text(0.5, 1.0, 'Co-Relation of all features in DataSet')"
            ]
          },
          "metadata": {
            "tags": []
          },
          "execution_count": 25
        },
        {
          "output_type": "display_data",
          "data": {
            "image/png": "[encoded data removed]",
            "text/plain": [
              "<Figure size 1080x720 with 2 Axes>"
            ]
          },
          "metadata": {
            "tags": [],
            "needs_background": "light"
          }
        }
      ]
    },
    {
      "cell_type": "code",
      "metadata": {
        "id": "hezBUJ8quCuA"
      },
      "source": [
        "X = train_df.drop([\"Response\"],axis=1)\r\n",
        "y = train_df['Response']"
      ],
      "execution_count": null,
      "outputs": []
    },
    {
      "cell_type": "code",
      "metadata": {
        "id": "vZQwSEw_3rex"
      },
      "source": [
        "from sklearn.model_selection import train_test_split"
      ],
      "execution_count": null,
      "outputs": []
    },
    {
      "cell_type": "code",
      "metadata": {
        "id": "cGBC4SeA3eUg"
      },
      "source": [
        "X_train, X_valid, y_train, y_valid = train_test_split(X, y, test_size=0.2,random_state=42)"
      ],
      "execution_count": null,
      "outputs": []
    },
    {
      "cell_type": "code",
      "metadata": {
        "id": "rNdz3PB63s7P"
      },
      "source": [
        "from sklearn.ensemble import RandomForestClassifier\r\n",
        "import lightgbm"
      ],
      "execution_count": null,
      "outputs": []
    },
    {
      "cell_type": "code",
      "metadata": {
        "id": "kV_HFfHm4JlA"
      },
      "source": [
        "m1 = RandomForestClassifier(oob_score = True)"
      ],
      "execution_count": null,
      "outputs": []
    },
    {
      "cell_type": "code",
      "metadata": {
        "colab": {
          "base_uri": "https://localhost:8080/"
        },
        "id": "5uVKtQzD4Oow",
        "outputId": "d3c7b764-eedd-41d4-8bde-2978d9d17da8"
      },
      "source": [
        "m1.fit(X_train,y_train)"
      ],
      "execution_count": null,
      "outputs": [
        {
          "output_type": "execute_result",
          "data": {
            "text/plain": [
              "RandomForestClassifier(bootstrap=True, ccp_alpha=0.0, class_weight=None,\n",
              "                       criterion='gini', max_depth=None, max_features='auto',\n",
              "                       max_leaf_nodes=None, max_samples=None,\n",
              "                       min_impurity_decrease=0.0, min_impurity_split=None,\n",
              "                       min_samples_leaf=1, min_samples_split=2,\n",
              "                       min_weight_fraction_leaf=0.0, n_estimators=100,\n",
              "                       n_jobs=None, oob_score=True, random_state=None,\n",
              "                       verbose=0, warm_start=False)"
            ]
          },
          "metadata": {
            "tags": []
          },
          "execution_count": 31
        }
      ]
    },
    {
      "cell_type": "code",
      "metadata": {
        "colab": {
          "base_uri": "https://localhost:8080/"
        },
        "id": "FAIy9qYt4RC_",
        "outputId": "e2586ced-982b-4eb7-a9ce-07e827f9b954"
      },
      "source": [
        "print_score(m1)  "
      ],
      "execution_count": null,
      "outputs": [
        {
          "output_type": "execute_result",
          "data": {
            "text/plain": [
              "[1.0, 0.7535619534243884, True]"
            ]
          },
          "metadata": {
            "tags": []
          },
          "execution_count": 32
        }
      ]
    },
    {
      "cell_type": "code",
      "metadata": {
        "colab": {
          "base_uri": "https://localhost:8080/"
        },
        "id": "fF8-Qc6q4UWf",
        "outputId": "9275d2f3-6f5d-43ae-900c-ec046267e287"
      },
      "source": [
        "m1.fit(X_valid,y_valid)"
      ],
      "execution_count": null,
      "outputs": [
        {
          "output_type": "execute_result",
          "data": {
            "text/plain": [
              "RandomForestClassifier(bootstrap=True, ccp_alpha=0.0, class_weight=None,\n",
              "                       criterion='gini', max_depth=None, max_features='auto',\n",
              "                       max_leaf_nodes=None, max_samples=None,\n",
              "                       min_impurity_decrease=0.0, min_impurity_split=None,\n",
              "                       min_samples_leaf=1, min_samples_split=2,\n",
              "                       min_weight_fraction_leaf=0.0, n_estimators=100,\n",
              "                       n_jobs=None, oob_score=True, random_state=None,\n",
              "                       verbose=0, warm_start=False)"
            ]
          },
          "metadata": {
            "tags": []
          },
          "execution_count": 33
        }
      ]
    },
    {
      "cell_type": "code",
      "metadata": {
        "colab": {
          "base_uri": "https://localhost:8080/"
        },
        "id": "O0R192Xw6rum",
        "outputId": "976b28d4-8cc5-447e-efc4-e5828290d941"
      },
      "source": [
        "print_score(m1) "
      ],
      "execution_count": null,
      "outputs": [
        {
          "output_type": "execute_result",
          "data": {
            "text/plain": [
              "[0.7578430168283995, 0.999901739215879, True]"
            ]
          },
          "metadata": {
            "tags": []
          },
          "execution_count": 34
        }
      ]
    },
    {
      "cell_type": "code",
      "metadata": {
        "id": "lKdjgyII_q2I"
      },
      "source": [
        "X_test = test_df"
      ],
      "execution_count": null,
      "outputs": []
    },
    {
      "cell_type": "code",
      "metadata": {
        "id": "dPQwJh6I_6y3"
      },
      "source": [
        "y_pred = m1.predict(X_test)"
      ],
      "execution_count": null,
      "outputs": []
    },
    {
      "cell_type": "code",
      "metadata": {
        "id": "pcnl96f4_85p"
      },
      "source": [
        "submission_test_v1 = pd.concat([test_df['ID'],pd.Series(y_pred)],axis=1)"
      ],
      "execution_count": null,
      "outputs": []
    },
    {
      "cell_type": "code",
      "metadata": {
        "id": "0k05BlE6A5Wa"
      },
      "source": [
        "submission_test_v1.columns = ['ID','Response']"
      ],
      "execution_count": null,
      "outputs": []
    },
    {
      "cell_type": "code",
      "metadata": {
        "id": "1Ymn_gBXBC5K"
      },
      "source": [
        "submission_test_v1.to_csv(\"submission_v2.csv\",index=False) "
      ],
      "execution_count": null,
      "outputs": []
    },
    {
      "cell_type": "code",
      "metadata": {
        "colab": {
          "base_uri": "https://localhost:8080/"
        },
        "id": "WAms16aUBHyj",
        "outputId": "054a2a74-551b-464e-fe40-15411f043c16"
      },
      "source": [
        "submission_test_v1.shape"
      ],
      "execution_count": null,
      "outputs": [
        {
          "output_type": "execute_result",
          "data": {
            "text/plain": [
              "(21805, 2)"
            ]
          },
          "metadata": {
            "tags": []
          },
          "execution_count": 40
        }
      ]
    },
    {
      "cell_type": "code",
      "metadata": {
        "id": "0_uUKCjq6zE8"
      },
      "source": [
        "m2 = lightgbm.LGBMClassifier(n_estimators=200,learning_rate=0.1)"
      ],
      "execution_count": null,
      "outputs": []
    },
    {
      "cell_type": "code",
      "metadata": {
        "colab": {
          "base_uri": "https://localhost:8080/"
        },
        "id": "0GXIDScC65JB",
        "outputId": "5e4524a0-a020-4c0d-f211-ec2b54cf8d8a"
      },
      "source": [
        "m2.fit(X_train,y_train)"
      ],
      "execution_count": null,
      "outputs": [
        {
          "output_type": "execute_result",
          "data": {
            "text/plain": [
              "LGBMClassifier(boosting_type='gbdt', class_weight=None, colsample_bytree=1.0,\n",
              "               importance_type='split', learning_rate=0.1, max_depth=-1,\n",
              "               min_child_samples=20, min_child_weight=0.001, min_split_gain=0.0,\n",
              "               n_estimators=200, n_jobs=-1, num_leaves=31, objective=None,\n",
              "               random_state=None, reg_alpha=0.0, reg_lambda=0.0, silent=True,\n",
              "               subsample=1.0, subsample_for_bin=200000, subsample_freq=0)"
            ]
          },
          "metadata": {
            "tags": []
          },
          "execution_count": 42
        }
      ]
    },
    {
      "cell_type": "code",
      "metadata": {
        "colab": {
          "base_uri": "https://localhost:8080/"
        },
        "id": "oWzBnCid68o9",
        "outputId": "6e147fe4-c06c-4774-f1d1-f679d8fc7337"
      },
      "source": [
        "print_score(m2)"
      ],
      "execution_count": null,
      "outputs": [
        {
          "output_type": "execute_result",
          "data": {
            "text/plain": [
              "[0.7828276624493306, 0.75464282204972]"
            ]
          },
          "metadata": {
            "tags": []
          },
          "execution_count": 43
        }
      ]
    },
    {
      "cell_type": "code",
      "metadata": {
        "colab": {
          "base_uri": "https://localhost:8080/"
        },
        "id": "Up4W289i7AQS",
        "outputId": "f7727fd5-70b6-47c8-e1ec-12cc06bbc49e"
      },
      "source": [
        "m2.fit(X,y)"
      ],
      "execution_count": null,
      "outputs": [
        {
          "output_type": "execute_result",
          "data": {
            "text/plain": [
              "LGBMClassifier(boosting_type='gbdt', class_weight=None, colsample_bytree=1.0,\n",
              "               importance_type='split', learning_rate=0.1, max_depth=-1,\n",
              "               min_child_samples=20, min_child_weight=0.001, min_split_gain=0.0,\n",
              "               n_estimators=200, n_jobs=-1, num_leaves=31, objective=None,\n",
              "               random_state=None, reg_alpha=0.0, reg_lambda=0.0, silent=True,\n",
              "               subsample=1.0, subsample_for_bin=200000, subsample_freq=0)"
            ]
          },
          "metadata": {
            "tags": []
          },
          "execution_count": 44
        }
      ]
    },
    {
      "cell_type": "code",
      "metadata": {
        "id": "OOIUCZoRBRVv"
      },
      "source": [
        "X_test = test_df"
      ],
      "execution_count": null,
      "outputs": []
    },
    {
      "cell_type": "code",
      "metadata": {
        "id": "XhxZ6HW7Bdn3"
      },
      "source": [
        "y_pred = m2.predict(X_test)"
      ],
      "execution_count": null,
      "outputs": []
    },
    {
      "cell_type": "code",
      "metadata": {
        "id": "JPlNHQhuBf3n"
      },
      "source": [
        "submission_test_v1 = pd.concat([test_df['ID'],pd.Series(y_pred)],axis=1)"
      ],
      "execution_count": null,
      "outputs": []
    },
    {
      "cell_type": "code",
      "metadata": {
        "id": "zs1QVcbvBiqw"
      },
      "source": [
        "submission_test_v1.columns = ['ID','Response']"
      ],
      "execution_count": null,
      "outputs": []
    },
    {
      "cell_type": "code",
      "metadata": {
        "colab": {
          "base_uri": "https://localhost:8080/"
        },
        "id": "xxJbpYtWBqmX",
        "outputId": "ba64c3a0-f7b1-46de-9146-dd61163df9c7"
      },
      "source": [
        "submission_test_v1['Response'].value_counts()"
      ],
      "execution_count": null,
      "outputs": [
        {
          "output_type": "execute_result",
          "data": {
            "text/plain": [
              "0.0    21221\n",
              "1.0      584\n",
              "Name: Response, dtype: int64"
            ]
          },
          "metadata": {
            "tags": []
          },
          "execution_count": 50
        }
      ]
    },
    {
      "cell_type": "code",
      "metadata": {
        "id": "xoS6DPD4BtRX"
      },
      "source": [
        "submission_test_v1.to_csv(\"submission_v10_lgbm.csv\",index=False)  #normalized and dummies"
      ],
      "execution_count": null,
      "outputs": []
    },
    {
      "cell_type": "code",
      "metadata": {
        "colab": {
          "base_uri": "https://localhost:8080/"
        },
        "id": "dDSMcKeoB6et",
        "outputId": "8087e317-cbb0-490a-c501-e7503e553884"
      },
      "source": [
        "submission_test_v1.shape"
      ],
      "execution_count": null,
      "outputs": [
        {
          "output_type": "execute_result",
          "data": {
            "text/plain": [
              "(21805, 2)"
            ]
          },
          "metadata": {
            "tags": []
          },
          "execution_count": 52
        }
      ]
    },
    {
      "cell_type": "code",
      "metadata": {
        "colab": {
          "base_uri": "https://localhost:8080/"
        },
        "id": "IvJBIz1nB9AA",
        "outputId": "f6c099d9-0d83-4412-c508-0c2e3f8d6d10"
      },
      "source": [
        "!pip install catboost\r\n",
        "import catboost"
      ],
      "execution_count": null,
      "outputs": [
        {
          "output_type": "stream",
          "text": [
            "Collecting catboost\n",
            "\u001b[?25l  Downloading https://files.pythonhosted.org/packages/96/3b/bb419654adcf7efff42ed8a3f84e50c8f236424b7ed1cc8ccd290852e003/catboost-0.24.4-cp37-none-manylinux1_x86_64.whl (65.7MB)\n",
            "\u001b[K     |████████████████████████████████| 65.7MB 60kB/s \n",
            "\u001b[?25hRequirement already satisfied: scipy in /usr/local/lib/python3.7/dist-packages (from catboost) (1.4.1)\n",
            "Requirement already satisfied: matplotlib in /usr/local/lib/python3.7/dist-packages (from catboost) (3.2.2)\n",
            "Requirement already satisfied: plotly in /usr/local/lib/python3.7/dist-packages (from catboost) (4.4.1)\n",
            "Requirement already satisfied: pandas>=0.24.0 in /usr/local/lib/python3.7/dist-packages (from catboost) (1.1.5)\n",
            "Requirement already satisfied: graphviz in /usr/local/lib/python3.7/dist-packages (from catboost) (0.10.1)\n",
            "Requirement already satisfied: numpy>=1.16.0 in /usr/local/lib/python3.7/dist-packages (from catboost) (1.19.5)\n",
            "Requirement already satisfied: six in /usr/local/lib/python3.7/dist-packages (from catboost) (1.15.0)\n",
            "Requirement already satisfied: python-dateutil>=2.1 in /usr/local/lib/python3.7/dist-packages (from matplotlib->catboost) (2.8.1)\n",
            "Requirement already satisfied: kiwisolver>=1.0.1 in /usr/local/lib/python3.7/dist-packages (from matplotlib->catboost) (1.3.1)\n",
            "Requirement already satisfied: cycler>=0.10 in /usr/local/lib/python3.7/dist-packages (from matplotlib->catboost) (0.10.0)\n",
            "Requirement already satisfied: pyparsing!=2.0.4,!=2.1.2,!=2.1.6,>=2.0.1 in /usr/local/lib/python3.7/dist-packages (from matplotlib->catboost) (2.4.7)\n",
            "Requirement already satisfied: retrying>=1.3.3 in /usr/local/lib/python3.7/dist-packages (from plotly->catboost) (1.3.3)\n",
            "Requirement already satisfied: pytz>=2017.2 in /usr/local/lib/python3.7/dist-packages (from pandas>=0.24.0->catboost) (2018.9)\n",
            "Installing collected packages: catboost\n",
            "Successfully installed catboost-0.24.4\n"
          ],
          "name": "stdout"
        }
      ]
    },
    {
      "cell_type": "code",
      "metadata": {
        "id": "-MgzMYaqCEB5"
      },
      "source": [
        "m3 = catboost.CatBoostClassifier(iterations=100)"
      ],
      "execution_count": null,
      "outputs": []
    },
    {
      "cell_type": "code",
      "metadata": {
        "colab": {
          "base_uri": "https://localhost:8080/"
        },
        "id": "f79VgCkyCHMX",
        "outputId": "34a1be4f-4153-4752-bd68-54a30acc95cf"
      },
      "source": [
        "m3.fit(X_train,y_train)"
      ],
      "execution_count": null,
      "outputs": [
        {
          "output_type": "stream",
          "text": [
            "Learning rate set to 0.414242\n",
            "0:\tlearn: 0.6008153\ttotal: 62.1ms\tremaining: 6.15s\n",
            "1:\tlearn: 0.5636531\ttotal: 72.3ms\tremaining: 3.54s\n",
            "2:\tlearn: 0.5485425\ttotal: 82ms\tremaining: 2.65s\n",
            "3:\tlearn: 0.5424123\ttotal: 91.7ms\tremaining: 2.2s\n",
            "4:\tlearn: 0.5362976\ttotal: 111ms\tremaining: 2.11s\n",
            "5:\tlearn: 0.5334346\ttotal: 122ms\tremaining: 1.92s\n",
            "6:\tlearn: 0.5312575\ttotal: 132ms\tremaining: 1.76s\n",
            "7:\tlearn: 0.5287554\ttotal: 142ms\tremaining: 1.64s\n",
            "8:\tlearn: 0.5283611\ttotal: 152ms\tremaining: 1.54s\n",
            "9:\tlearn: 0.5272726\ttotal: 162ms\tremaining: 1.46s\n",
            "10:\tlearn: 0.5266361\ttotal: 172ms\tremaining: 1.39s\n",
            "11:\tlearn: 0.5255836\ttotal: 182ms\tremaining: 1.34s\n",
            "12:\tlearn: 0.5249267\ttotal: 193ms\tremaining: 1.29s\n",
            "13:\tlearn: 0.5240120\ttotal: 207ms\tremaining: 1.27s\n",
            "14:\tlearn: 0.5231358\ttotal: 217ms\tremaining: 1.23s\n",
            "15:\tlearn: 0.5215460\ttotal: 228ms\tremaining: 1.2s\n",
            "16:\tlearn: 0.5202773\ttotal: 239ms\tremaining: 1.17s\n",
            "17:\tlearn: 0.5197961\ttotal: 249ms\tremaining: 1.14s\n",
            "18:\tlearn: 0.5188576\ttotal: 260ms\tremaining: 1.11s\n",
            "19:\tlearn: 0.5183880\ttotal: 270ms\tremaining: 1.08s\n",
            "20:\tlearn: 0.5179499\ttotal: 280ms\tremaining: 1.05s\n",
            "21:\tlearn: 0.5169806\ttotal: 291ms\tremaining: 1.03s\n",
            "22:\tlearn: 0.5164970\ttotal: 301ms\tremaining: 1.01s\n",
            "23:\tlearn: 0.5163026\ttotal: 310ms\tremaining: 983ms\n",
            "24:\tlearn: 0.5157864\ttotal: 323ms\tremaining: 968ms\n",
            "25:\tlearn: 0.5152485\ttotal: 333ms\tremaining: 948ms\n",
            "26:\tlearn: 0.5144111\ttotal: 343ms\tremaining: 928ms\n",
            "27:\tlearn: 0.5139226\ttotal: 353ms\tremaining: 908ms\n",
            "28:\tlearn: 0.5132682\ttotal: 363ms\tremaining: 888ms\n",
            "29:\tlearn: 0.5120918\ttotal: 373ms\tremaining: 870ms\n",
            "30:\tlearn: 0.5115486\ttotal: 383ms\tremaining: 851ms\n",
            "31:\tlearn: 0.5111078\ttotal: 393ms\tremaining: 836ms\n",
            "32:\tlearn: 0.5109050\ttotal: 403ms\tremaining: 818ms\n",
            "33:\tlearn: 0.5105403\ttotal: 416ms\tremaining: 807ms\n",
            "34:\tlearn: 0.5093536\ttotal: 426ms\tremaining: 791ms\n",
            "35:\tlearn: 0.5080451\ttotal: 437ms\tremaining: 776ms\n",
            "36:\tlearn: 0.5072183\ttotal: 447ms\tremaining: 761ms\n",
            "37:\tlearn: 0.5067880\ttotal: 458ms\tremaining: 748ms\n",
            "38:\tlearn: 0.5061984\ttotal: 468ms\tremaining: 733ms\n",
            "39:\tlearn: 0.5054078\ttotal: 478ms\tremaining: 717ms\n",
            "40:\tlearn: 0.5045540\ttotal: 488ms\tremaining: 703ms\n",
            "41:\tlearn: 0.5041790\ttotal: 498ms\tremaining: 688ms\n",
            "42:\tlearn: 0.5037138\ttotal: 508ms\tremaining: 674ms\n",
            "43:\tlearn: 0.5034187\ttotal: 519ms\tremaining: 660ms\n",
            "44:\tlearn: 0.5030781\ttotal: 528ms\tremaining: 646ms\n",
            "45:\tlearn: 0.5026679\ttotal: 538ms\tremaining: 632ms\n",
            "46:\tlearn: 0.5023617\ttotal: 548ms\tremaining: 618ms\n",
            "47:\tlearn: 0.5020375\ttotal: 559ms\tremaining: 605ms\n",
            "48:\tlearn: 0.5017030\ttotal: 568ms\tremaining: 591ms\n",
            "49:\tlearn: 0.5013135\ttotal: 579ms\tremaining: 579ms\n",
            "50:\tlearn: 0.5009451\ttotal: 589ms\tremaining: 566ms\n",
            "51:\tlearn: 0.5005096\ttotal: 599ms\tremaining: 553ms\n",
            "52:\tlearn: 0.5001486\ttotal: 610ms\tremaining: 541ms\n",
            "53:\tlearn: 0.4998669\ttotal: 623ms\tremaining: 531ms\n",
            "54:\tlearn: 0.4995469\ttotal: 633ms\tremaining: 518ms\n",
            "55:\tlearn: 0.4993037\ttotal: 643ms\tremaining: 505ms\n",
            "56:\tlearn: 0.4990592\ttotal: 653ms\tremaining: 493ms\n",
            "57:\tlearn: 0.4987222\ttotal: 663ms\tremaining: 480ms\n",
            "58:\tlearn: 0.4981737\ttotal: 673ms\tremaining: 468ms\n",
            "59:\tlearn: 0.4977800\ttotal: 683ms\tremaining: 456ms\n",
            "60:\tlearn: 0.4973811\ttotal: 693ms\tremaining: 443ms\n",
            "61:\tlearn: 0.4968911\ttotal: 703ms\tremaining: 431ms\n",
            "62:\tlearn: 0.4964890\ttotal: 714ms\tremaining: 419ms\n",
            "63:\tlearn: 0.4961871\ttotal: 727ms\tremaining: 409ms\n",
            "64:\tlearn: 0.4955785\ttotal: 741ms\tremaining: 399ms\n",
            "65:\tlearn: 0.4951937\ttotal: 753ms\tremaining: 388ms\n",
            "66:\tlearn: 0.4948521\ttotal: 763ms\tremaining: 376ms\n",
            "67:\tlearn: 0.4945531\ttotal: 774ms\tremaining: 364ms\n",
            "68:\tlearn: 0.4940921\ttotal: 785ms\tremaining: 353ms\n",
            "69:\tlearn: 0.4933414\ttotal: 796ms\tremaining: 341ms\n",
            "70:\tlearn: 0.4929359\ttotal: 807ms\tremaining: 330ms\n",
            "71:\tlearn: 0.4923866\ttotal: 824ms\tremaining: 320ms\n",
            "72:\tlearn: 0.4919032\ttotal: 835ms\tremaining: 309ms\n",
            "73:\tlearn: 0.4914757\ttotal: 845ms\tremaining: 297ms\n",
            "74:\tlearn: 0.4910726\ttotal: 855ms\tremaining: 285ms\n",
            "75:\tlearn: 0.4908287\ttotal: 865ms\tremaining: 273ms\n",
            "76:\tlearn: 0.4906212\ttotal: 876ms\tremaining: 262ms\n",
            "77:\tlearn: 0.4901784\ttotal: 887ms\tremaining: 250ms\n",
            "78:\tlearn: 0.4897066\ttotal: 897ms\tremaining: 239ms\n",
            "79:\tlearn: 0.4893131\ttotal: 908ms\tremaining: 227ms\n",
            "80:\tlearn: 0.4890058\ttotal: 918ms\tremaining: 215ms\n",
            "81:\tlearn: 0.4885924\ttotal: 928ms\tremaining: 204ms\n",
            "82:\tlearn: 0.4882285\ttotal: 938ms\tremaining: 192ms\n",
            "83:\tlearn: 0.4876665\ttotal: 948ms\tremaining: 181ms\n",
            "84:\tlearn: 0.4872981\ttotal: 959ms\tremaining: 169ms\n",
            "85:\tlearn: 0.4869775\ttotal: 968ms\tremaining: 158ms\n",
            "86:\tlearn: 0.4867325\ttotal: 978ms\tremaining: 146ms\n",
            "87:\tlearn: 0.4863459\ttotal: 989ms\tremaining: 135ms\n",
            "88:\tlearn: 0.4858491\ttotal: 999ms\tremaining: 123ms\n",
            "89:\tlearn: 0.4849733\ttotal: 1.01s\tremaining: 112ms\n",
            "90:\tlearn: 0.4845919\ttotal: 1.02s\tremaining: 101ms\n",
            "91:\tlearn: 0.4843773\ttotal: 1.03s\tremaining: 89.8ms\n",
            "92:\tlearn: 0.4840622\ttotal: 1.04s\tremaining: 78.5ms\n",
            "93:\tlearn: 0.4837661\ttotal: 1.05s\tremaining: 67.2ms\n",
            "94:\tlearn: 0.4832353\ttotal: 1.06s\tremaining: 56ms\n",
            "95:\tlearn: 0.4829665\ttotal: 1.07s\tremaining: 44.8ms\n",
            "96:\tlearn: 0.4823681\ttotal: 1.08s\tremaining: 33.5ms\n",
            "97:\tlearn: 0.4818814\ttotal: 1.11s\tremaining: 22.6ms\n",
            "98:\tlearn: 0.4814548\ttotal: 1.12s\tremaining: 11.3ms\n",
            "99:\tlearn: 0.4810389\ttotal: 1.13s\tremaining: 0us\n"
          ],
          "name": "stdout"
        },
        {
          "output_type": "execute_result",
          "data": {
            "text/plain": [
              "<catboost.core.CatBoostClassifier at 0x7f090644a710>"
            ]
          },
          "metadata": {
            "tags": []
          },
          "execution_count": 55
        }
      ]
    },
    {
      "cell_type": "code",
      "metadata": {
        "colab": {
          "base_uri": "https://localhost:8080/"
        },
        "id": "Q892QVwxCJce",
        "outputId": "cdb9e3d8-bb73-4b09-8195-378bf72e09f4"
      },
      "source": [
        "print_score(m3)"
      ],
      "execution_count": null,
      "outputs": [
        {
          "output_type": "execute_result",
          "data": {
            "text/plain": [
              "[0.7722147156368997, 0.7541515181291146]"
            ]
          },
          "metadata": {
            "tags": []
          },
          "execution_count": 56
        }
      ]
    },
    {
      "cell_type": "code",
      "metadata": {
        "id": "GPqp0CFJCNKl"
      },
      "source": [
        "X_test = test_df"
      ],
      "execution_count": null,
      "outputs": []
    },
    {
      "cell_type": "code",
      "metadata": {
        "id": "oD2oDqluCRW-"
      },
      "source": [
        "y_pred = m3.predict(X_test)"
      ],
      "execution_count": null,
      "outputs": []
    },
    {
      "cell_type": "code",
      "metadata": {
        "id": "oJOmFnKGDM0c"
      },
      "source": [
        "submission_test_v1 = pd.concat([test_df['ID'],pd.Series(y_pred)],axis=1)"
      ],
      "execution_count": null,
      "outputs": []
    },
    {
      "cell_type": "code",
      "metadata": {
        "id": "4ieodkEHCwWv"
      },
      "source": [
        "submission_test_v1.columns = ['ID','Response']"
      ],
      "execution_count": null,
      "outputs": []
    },
    {
      "cell_type": "code",
      "metadata": {
        "id": "mdwJ-sjuC0qP"
      },
      "source": [
        "submission_test_v1.to_csv(\"submission_v4_catboost.csv\",index=False)  #normalized and dummies"
      ],
      "execution_count": null,
      "outputs": []
    },
    {
      "cell_type": "code",
      "metadata": {
        "id": "fAS6yYQAESVV"
      },
      "source": [
        "import xgboost"
      ],
      "execution_count": null,
      "outputs": []
    },
    {
      "cell_type": "code",
      "metadata": {
        "id": "wX0DePeZEUs7"
      },
      "source": [
        "m4 = xgboost.XGBClassifier(n_estimators=200)"
      ],
      "execution_count": null,
      "outputs": []
    },
    {
      "cell_type": "code",
      "metadata": {
        "colab": {
          "base_uri": "https://localhost:8080/"
        },
        "id": "stAp74VtEWeM",
        "outputId": "99c6c0f1-4d37-468b-b82b-d58c4d86538a"
      },
      "source": [
        "m4.fit(X_train,y_train)"
      ],
      "execution_count": null,
      "outputs": [
        {
          "output_type": "execute_result",
          "data": {
            "text/plain": [
              "XGBClassifier(base_score=0.5, booster='gbtree', colsample_bylevel=1,\n",
              "              colsample_bynode=1, colsample_bytree=1, gamma=0,\n",
              "              learning_rate=0.1, max_delta_step=0, max_depth=3,\n",
              "              min_child_weight=1, missing=None, n_estimators=200, n_jobs=1,\n",
              "              nthread=None, objective='binary:logistic', random_state=0,\n",
              "              reg_alpha=0, reg_lambda=1, scale_pos_weight=1, seed=None,\n",
              "              silent=None, subsample=1, verbosity=1)"
            ]
          },
          "metadata": {
            "tags": []
          },
          "execution_count": 68
        }
      ]
    },
    {
      "cell_type": "code",
      "metadata": {
        "colab": {
          "base_uri": "https://localhost:8080/"
        },
        "id": "ymZxJF1DEYez",
        "outputId": "c384d414-1b1a-4e62-e017-b12858a23de3"
      },
      "source": [
        "print_score(m4)"
      ],
      "execution_count": null,
      "outputs": [
        {
          "output_type": "execute_result",
          "data": {
            "text/plain": [
              "[0.7620194079351431, 0.7554289083226884]"
            ]
          },
          "metadata": {
            "tags": []
          },
          "execution_count": 69
        }
      ]
    },
    {
      "cell_type": "code",
      "metadata": {
        "colab": {
          "base_uri": "https://localhost:8080/"
        },
        "id": "Wm2qnsw2Ebh8",
        "outputId": "7aba7a09-160d-4525-bd75-53893ba66aa7"
      },
      "source": [
        "m4.fit(X,y)"
      ],
      "execution_count": null,
      "outputs": [
        {
          "output_type": "execute_result",
          "data": {
            "text/plain": [
              "XGBClassifier(base_score=0.5, booster='gbtree', colsample_bylevel=1,\n",
              "              colsample_bynode=1, colsample_bytree=1, gamma=0,\n",
              "              learning_rate=0.1, max_delta_step=0, max_depth=3,\n",
              "              min_child_weight=1, missing=None, n_estimators=200, n_jobs=1,\n",
              "              nthread=None, objective='binary:logistic', random_state=0,\n",
              "              reg_alpha=0, reg_lambda=1, scale_pos_weight=1, seed=None,\n",
              "              silent=None, subsample=1, verbosity=1)"
            ]
          },
          "metadata": {
            "tags": []
          },
          "execution_count": 70
        }
      ]
    },
    {
      "cell_type": "code",
      "metadata": {
        "id": "6_3Yln7hEfXI"
      },
      "source": [
        "X_test = test_df"
      ],
      "execution_count": null,
      "outputs": []
    },
    {
      "cell_type": "code",
      "metadata": {
        "id": "7Fvi34JBFo2y"
      },
      "source": [
        "y_pred = m3.predict(X_test)"
      ],
      "execution_count": null,
      "outputs": []
    },
    {
      "cell_type": "code",
      "metadata": {
        "id": "HY0dc52OFuTc"
      },
      "source": [
        "submission_test_v1 = pd.concat([test_df['ID'],pd.Series(y_pred)],axis=1)"
      ],
      "execution_count": null,
      "outputs": []
    },
    {
      "cell_type": "code",
      "metadata": {
        "id": "33AULce9FxKx"
      },
      "source": [
        "submission_test_v1.columns = ['ID','Response']"
      ],
      "execution_count": null,
      "outputs": []
    },
    {
      "cell_type": "code",
      "metadata": {
        "id": "JS-uiGTOF2qC"
      },
      "source": [
        "submission_test_v1.to_csv(\"submission_v6_xgboost.csv\",index=False)  #normalized and dummies"
      ],
      "execution_count": null,
      "outputs": []
    },
    {
      "cell_type": "code",
      "metadata": {
        "colab": {
          "base_uri": "https://localhost:8080/"
        },
        "id": "ZmbRlEHaF_q3",
        "outputId": "c5bd3910-863c-4c19-bdfd-f00b1105aea6"
      },
      "source": [
        "!pip install vecstack\r\n",
        "from vecstack import stacking "
      ],
      "execution_count": null,
      "outputs": [
        {
          "output_type": "stream",
          "text": [
            "Collecting vecstack\n",
            "  Downloading https://files.pythonhosted.org/packages/d0/a1/b9a1e9e9e5a12078da1ab9788c7885e4c745358f7e57d5f94d9db6a4e898/vecstack-0.4.0.tar.gz\n",
            "Requirement already satisfied: numpy in /usr/local/lib/python3.7/dist-packages (from vecstack) (1.19.5)\n",
            "Requirement already satisfied: scipy in /usr/local/lib/python3.7/dist-packages (from vecstack) (1.4.1)\n",
            "Requirement already satisfied: scikit-learn>=0.18 in /usr/local/lib/python3.7/dist-packages (from vecstack) (0.22.2.post1)\n",
            "Requirement already satisfied: joblib>=0.11 in /usr/local/lib/python3.7/dist-packages (from scikit-learn>=0.18->vecstack) (1.0.1)\n",
            "Building wheels for collected packages: vecstack\n",
            "  Building wheel for vecstack (setup.py) ... \u001b[?25l\u001b[?25hdone\n",
            "  Created wheel for vecstack: filename=vecstack-0.4.0-cp37-none-any.whl size=19877 sha256=26ee7c87453f0513ea23a6e5adf6c1f3b8d87318def1ddb3f51d74603eeb385e\n",
            "  Stored in directory: /root/.cache/pip/wheels/5f/bb/4e/f6488433d53bc0684673d6845e5bf11a25240577c8151c140e\n",
            "Successfully built vecstack\n",
            "Installing collected packages: vecstack\n",
            "Successfully installed vecstack-0.4.0\n"
          ],
          "name": "stdout"
        }
      ]
    },
    {
      "cell_type": "code",
      "metadata": {
        "colab": {
          "base_uri": "https://localhost:8080/"
        },
        "id": "b529GalWGCaF",
        "outputId": "11771129-e083-4605-9c0c-9d6dee39ea4a"
      },
      "source": [
        "from sklearn.linear_model import LogisticRegression\r\n",
        "m5 = LogisticRegression()\r\n",
        "models = [m1, m2, m4, m5]\r\n",
        "\r\n",
        "# Compute stacking features\r\n",
        "S_train, S_test = stacking(models, X, y, X_test,\r\n",
        "    regression = False, n_folds = 4,\r\n",
        "    shuffle = True, random_state = 88, verbose = 2)"
      ],
      "execution_count": null,
      "outputs": [
        {
          "output_type": "stream",
          "text": [
            "task:         [classification]\n",
            "n_classes:    [2]\n",
            "metric:       [accuracy_score]\n",
            "mode:         [oof_pred_bag]\n",
            "n_models:     [4]\n",
            "\n",
            "model  0:     [RandomForestClassifier]\n",
            "    fold  0:  [0.75733040]\n",
            "    fold  1:  [0.76078925]\n",
            "    fold  2:  [0.75794025]\n",
            "    fold  3:  [0.75503145]\n",
            "    ----\n",
            "    MEAN:     [0.75777284] + [0.00205169]\n",
            "    FULL:     [0.75777289]\n",
            "\n",
            "model  1:     [LGBMClassifier]\n",
            "    fold  0:  [0.76181118]\n",
            "    fold  1:  [0.76149674]\n",
            "    fold  2:  [0.75966981]\n",
            "    fold  3:  [0.75534591]\n",
            "    ----\n",
            "    MEAN:     [0.75958091] + [0.00257816]\n",
            "    FULL:     [0.75958099]\n",
            "\n",
            "model  2:     [XGBClassifier]\n",
            "    fold  0:  [0.76039620]\n",
            "    fold  1:  [0.76259728]\n",
            "    fold  2:  [0.76077044]\n",
            "    fold  3:  [0.75550314]\n",
            "    ----\n",
            "    MEAN:     [0.75981677] + [0.00262602]\n",
            "    FULL:     [0.75981683]\n",
            "\n",
            "model  3:     [LogisticRegression]\n",
            "    fold  0:  [0.76078925]\n",
            "    fold  1:  [0.76244006]\n",
            "    fold  2:  [0.76029874]\n",
            "    fold  3:  [0.75668239]\n",
            "    ----\n",
            "    MEAN:     [0.76005261] + [0.00210128]\n",
            "    FULL:     [0.76005267]\n",
            "\n"
          ],
          "name": "stdout"
        }
      ]
    },
    {
      "cell_type": "code",
      "metadata": {
        "id": "6WPWIo_sHc6e"
      },
      "source": [
        "lr = LogisticRegression(max_iter=100)\r\n",
        "model = lr"
      ],
      "execution_count": null,
      "outputs": []
    },
    {
      "cell_type": "code",
      "metadata": {
        "colab": {
          "base_uri": "https://localhost:8080/"
        },
        "id": "3d3vmrbSH9vG",
        "outputId": "719dfead-6b76-4c8c-d036-86de39976ab1"
      },
      "source": [
        "model.fit(S_train,y)"
      ],
      "execution_count": null,
      "outputs": [
        {
          "output_type": "execute_result",
          "data": {
            "text/plain": [
              "LogisticRegression(C=1.0, class_weight=None, dual=False, fit_intercept=True,\n",
              "                   intercept_scaling=1, l1_ratio=None, max_iter=100,\n",
              "                   multi_class='auto', n_jobs=None, penalty='l2',\n",
              "                   random_state=None, solver='lbfgs', tol=0.0001, verbose=0,\n",
              "                   warm_start=False)"
            ]
          },
          "metadata": {
            "tags": []
          },
          "execution_count": 80
        }
      ]
    },
    {
      "cell_type": "code",
      "metadata": {
        "id": "kzy-2mJNIGGs"
      },
      "source": [
        "y_test_pred = model.predict(S_test)"
      ],
      "execution_count": null,
      "outputs": []
    },
    {
      "cell_type": "code",
      "metadata": {
        "colab": {
          "base_uri": "https://localhost:8080/"
        },
        "id": "AGoVohzeIHey",
        "outputId": "8e66f9c2-5183-4555-ad40-9d8930f03b64"
      },
      "source": [
        "y_test_pred.shape"
      ],
      "execution_count": null,
      "outputs": [
        {
          "output_type": "execute_result",
          "data": {
            "text/plain": [
              "(21805,)"
            ]
          },
          "metadata": {
            "tags": []
          },
          "execution_count": 82
        }
      ]
    },
    {
      "cell_type": "code",
      "metadata": {
        "id": "AzivxzbYILnk"
      },
      "source": [
        "submission_test_v1 = pd.concat([test_df['ID'],pd.Series(y_pred)],axis=1)"
      ],
      "execution_count": null,
      "outputs": []
    },
    {
      "cell_type": "code",
      "metadata": {
        "id": "ZErIXi3MIasC"
      },
      "source": [
        "submission_test_v1.columns = ['ID','Response']"
      ],
      "execution_count": null,
      "outputs": []
    },
    {
      "cell_type": "code",
      "metadata": {
        "id": "KrlHoS9HIc8X"
      },
      "source": [
        "submission_test_v1.to_csv(\"submission_v8_stack.csv\",index=False)  #normalized and dummies"
      ],
      "execution_count": null,
      "outputs": []
    }
  ]
}